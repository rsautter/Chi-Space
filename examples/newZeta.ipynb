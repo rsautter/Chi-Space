{
 "cells": [
  {
   "cell_type": "code",
   "execution_count": 7,
   "id": "95d9481b",
   "metadata": {},
   "outputs": [],
   "source": [
    "import pandas as pd\n",
    "import matplotlib.pyplot as plt\n",
    "\n",
    "import seaborn as sns\n",
    "import numpy as np"
   ]
  },
  {
   "cell_type": "code",
   "execution_count": 8,
   "id": "cdadfd02",
   "metadata": {},
   "outputs": [],
   "source": [
    "endo = pd.read_csv(\"results/zEndo.csv\")\n",
    "exo =  pd.read_csv(\"results/zExo.csv\")\n",
    "reds =  pd.read_csv(\"results/zRed.csv\")\n",
    "zL =  pd.read_csv(\"results/zLorentz.csv\")"
   ]
  },
  {
   "cell_type": "code",
   "execution_count": 10,
   "id": "c7d7c45b",
   "metadata": {},
   "outputs": [
    {
     "data": {
      "text/html": [
       "<div>\n",
       "<style scoped>\n",
       "    .dataframe tbody tr th:only-of-type {\n",
       "        vertical-align: middle;\n",
       "    }\n",
       "\n",
       "    .dataframe tbody tr th {\n",
       "        vertical-align: top;\n",
       "    }\n",
       "\n",
       "    .dataframe thead th {\n",
       "        text-align: right;\n",
       "    }\n",
       "</style>\n",
       "<table border=\"1\" class=\"dataframe\">\n",
       "  <thead>\n",
       "    <tr style=\"text-align: right;\">\n",
       "      <th></th>\n",
       "      <th>Unnamed: 0</th>\n",
       "      <th>GQQ</th>\n",
       "      <th>LDA</th>\n",
       "    </tr>\n",
       "  </thead>\n",
       "  <tbody>\n",
       "    <tr>\n",
       "      <th>0</th>\n",
       "      <td>0</td>\n",
       "      <td>0.898589</td>\n",
       "      <td>0.999283</td>\n",
       "    </tr>\n",
       "    <tr>\n",
       "      <th>1</th>\n",
       "      <td>1</td>\n",
       "      <td>0.787477</td>\n",
       "      <td>0.993498</td>\n",
       "    </tr>\n",
       "    <tr>\n",
       "      <th>2</th>\n",
       "      <td>2</td>\n",
       "      <td>0.550573</td>\n",
       "      <td>0.920322</td>\n",
       "    </tr>\n",
       "    <tr>\n",
       "      <th>3</th>\n",
       "      <td>3</td>\n",
       "      <td>0.809093</td>\n",
       "      <td>0.995545</td>\n",
       "    </tr>\n",
       "    <tr>\n",
       "      <th>4</th>\n",
       "      <td>4</td>\n",
       "      <td>0.693246</td>\n",
       "      <td>0.988991</td>\n",
       "    </tr>\n",
       "    <tr>\n",
       "      <th>...</th>\n",
       "      <td>...</td>\n",
       "      <td>...</td>\n",
       "      <td>...</td>\n",
       "    </tr>\n",
       "    <tr>\n",
       "      <th>195</th>\n",
       "      <td>195</td>\n",
       "      <td>0.871378</td>\n",
       "      <td>0.998301</td>\n",
       "    </tr>\n",
       "    <tr>\n",
       "      <th>196</th>\n",
       "      <td>196</td>\n",
       "      <td>0.804324</td>\n",
       "      <td>0.993239</td>\n",
       "    </tr>\n",
       "    <tr>\n",
       "      <th>197</th>\n",
       "      <td>197</td>\n",
       "      <td>0.688500</td>\n",
       "      <td>0.978551</td>\n",
       "    </tr>\n",
       "    <tr>\n",
       "      <th>198</th>\n",
       "      <td>198</td>\n",
       "      <td>0.801156</td>\n",
       "      <td>0.996269</td>\n",
       "    </tr>\n",
       "    <tr>\n",
       "      <th>199</th>\n",
       "      <td>199</td>\n",
       "      <td>0.741127</td>\n",
       "      <td>0.991692</td>\n",
       "    </tr>\n",
       "  </tbody>\n",
       "</table>\n",
       "<p>200 rows × 3 columns</p>\n",
       "</div>"
      ],
      "text/plain": [
       "     Unnamed: 0       GQQ       LDA\n",
       "0             0  0.898589  0.999283\n",
       "1             1  0.787477  0.993498\n",
       "2             2  0.550573  0.920322\n",
       "3             3  0.809093  0.995545\n",
       "4             4  0.693246  0.988991\n",
       "..          ...       ...       ...\n",
       "195         195  0.871378  0.998301\n",
       "196         196  0.804324  0.993239\n",
       "197         197  0.688500  0.978551\n",
       "198         198  0.801156  0.996269\n",
       "199         199  0.741127  0.991692\n",
       "\n",
       "[200 rows x 3 columns]"
      ]
     },
     "execution_count": 10,
     "metadata": {},
     "output_type": "execute_result"
    }
   ],
   "source": [
    "exo"
   ]
  },
  {
   "cell_type": "code",
   "execution_count": 6,
   "id": "14683b0b",
   "metadata": {},
   "outputs": [
    {
     "data": {
      "text/plain": [
       "\"plt.subplot(gs[0,1])\\nplt.hist(reds['GQQ'],color='red',histtype='step',orientation='horizontal',lw=2.5,bins=5)\\nplt.yticks([])\\nplt.show()\\n\""
      ]
     },
     "execution_count": 6,
     "metadata": {},
     "output_type": "execute_result"
    },
    {
     "data": {
      "image/png": "[encoded data removed]",
      "text/plain": [
       "<Figure size 720x720 with 1 Axes>"
      ]
     },
     "metadata": {
      "needs_background": "light"
     },
     "output_type": "display_data"
    }
   ],
   "source": [
    "\n",
    "#gs = GridSpec(2, 2, width_ratios=[4, 1], height_ratios=[4, 1])\n",
    "\n",
    "plt.figure(figsize=(10,10))\n",
    "\n",
    "#plt.subplot(gs[0,0])\n",
    "sns.kdeplot(data=endo, x=\"LDA\", y=\"GQQ\",fill=True,color='cyan',thresh=0.05,alpha = 0.5)\n",
    "sns.kdeplot(data=exo, x=\"LDA\", y=\"GQQ\",fill=True,color='blue',thresh=0.005,alpha = 0.5)\n",
    "sns.kdeplot(data=reds, x=\"LDA\", y=\"GQQ\",fill=True,color='red',thresh=0.05,alpha = 0.5)\n",
    "plt.scatter(zL[\"LDA\"],zL[\"GQQ\"],color='goldenrod')\n",
    "plt.xlim(0.0,1.0)\n",
    "plt.ylim(0.0,1.0)\n",
    "'''plt.subplot(gs[0,1])\n",
    "plt.hist(reds['GQQ'],color='red',histtype='step',orientation='horizontal',lw=2.5,bins=5)\n",
    "plt.yticks([])\n",
    "plt.show()\n",
    "'''\n"
   ]
  }
 ],
 "metadata": {
  "kernelspec": {
   "display_name": "Python 3 (ipykernel)",
   "language": "python",
   "name": "python3"
  },
  "language_info": {
   "codemirror_mode": {
    "name": "ipython",
    "version": 3
   },
   "file_extension": ".py",
   "mimetype": "text/x-python",
   "name": "python",
   "nbconvert_exporter": "python",
   "pygments_lexer": "ipython3",
   "version": "3.9.12"
  }
 },
 "nbformat": 4,
 "nbformat_minor": 5
}
